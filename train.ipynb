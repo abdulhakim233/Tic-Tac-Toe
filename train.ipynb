{
 "cells": [
  {
   "cell_type": "markdown",
   "metadata": {},
   "source": [
    "1. implement linear SVM algorithm on final boards classification and single label classification.\n",
    "2. repeat for KNN and multilayer perceptron.\n",
    "3. write a single program that outputs accuracy and confusion matrices for both datasets and for all the classifiers."
   ]
  },
  {
   "cell_type": "code",
   "execution_count": null,
   "metadata": {},
   "outputs": [],
   "source": [
    "# import libraries\n",
    "import pandas as pd\n",
    "import numpy as np\n",
    "import sklearn\n",
    "\n",
    "# dataset paths\n",
    "final_txt_path = \"./datasets/tictac_final.txt\"\n",
    "multi_txt_path = \"./datasets/tictac_multi.txt\"\n",
    "single_txt_path = \"./datasets/tictac_single.txt\""
   ]
  },
  {
   "cell_type": "code",
   "execution_count": 6,
   "metadata": {},
   "outputs": [],
   "source": [
    "df1 = pd.read_csv(\"./datasets/tictac_final.txt\")"
   ]
  },
  {
   "cell_type": "code",
   "execution_count": 10,
   "metadata": {},
   "outputs": [
    {
     "name": "stdout",
     "output_type": "stream",
     "text": [
      "Rows and columns: (957, 1)\n"
     ]
    }
   ],
   "source": [
    "print(\"Rows and columns:\" , df1.shape)"
   ]
  },
  {
   "cell_type": "code",
   "execution_count": 7,
   "metadata": {},
   "outputs": [],
   "source": [
    "df2 = pd.read_csv(\"./datasets/tictac_multi.txt\")"
   ]
  },
  {
   "cell_type": "code",
   "execution_count": 11,
   "metadata": {},
   "outputs": [
    {
     "name": "stdout",
     "output_type": "stream",
     "text": [
      "Rows and columns: (6550, 1)\n"
     ]
    }
   ],
   "source": [
    "print(\"Rows and columns:\" , df2.shape)"
   ]
  },
  {
   "cell_type": "code",
   "execution_count": 8,
   "metadata": {},
   "outputs": [],
   "source": [
    "df3 = pd.read_csv(\"./datasets/tictac_single.txt\")"
   ]
  },
  {
   "cell_type": "code",
   "execution_count": 12,
   "metadata": {},
   "outputs": [
    {
     "name": "stdout",
     "output_type": "stream",
     "text": [
      "Rows and columns: (6550, 1)\n"
     ]
    }
   ],
   "source": [
    "print(\"Rows and columns:\" , df3.shape)"
   ]
  },
  {
   "cell_type": "markdown",
   "metadata": {},
   "source": [
    "#check null values"
   ]
  },
  {
   "cell_type": "code",
   "execution_count": 13,
   "metadata": {},
   "outputs": [
    {
     "name": "stdout",
     "output_type": "stream",
     "text": [
      "Dataset 1 has missing values: False\n"
     ]
    }
   ],
   "source": [
    "print(\"Dataset 1 has missing values:\", df1.isnull().values.any())"
   ]
  },
  {
   "cell_type": "code",
   "execution_count": 14,
   "metadata": {},
   "outputs": [
    {
     "name": "stdout",
     "output_type": "stream",
     "text": [
      "Dataset 2 has missing values: False\n"
     ]
    }
   ],
   "source": [
    "print(\"Dataset 2 has missing values:\", df2.isnull().values.any())"
   ]
  },
  {
   "cell_type": "code",
   "execution_count": 15,
   "metadata": {},
   "outputs": [
    {
     "name": "stdout",
     "output_type": "stream",
     "text": [
      "Dataset 3 has missing values: False\n"
     ]
    }
   ],
   "source": [
    "print(\"Dataset 3 has missing values:\", df3.isnull().values.any())"
   ]
  },
  {
   "cell_type": "code",
   "execution_count": 19,
   "metadata": {},
   "outputs": [
    {
     "data": {
      "text/html": [
       "<div>\n",
       "<style scoped>\n",
       "    .dataframe tbody tr th:only-of-type {\n",
       "        vertical-align: middle;\n",
       "    }\n",
       "\n",
       "    .dataframe tbody tr th {\n",
       "        vertical-align: top;\n",
       "    }\n",
       "\n",
       "    .dataframe thead th {\n",
       "        text-align: right;\n",
       "    }\n",
       "</style>\n",
       "<table border=\"1\" class=\"dataframe\">\n",
       "  <thead>\n",
       "    <tr style=\"text-align: right;\">\n",
       "      <th></th>\n",
       "      <th>+1 +1 +1 +1 -1 -1 +1 -1 -1 +1</th>\n",
       "    </tr>\n",
       "  </thead>\n",
       "  <tbody>\n",
       "    <tr>\n",
       "      <th>count</th>\n",
       "      <td>957</td>\n",
       "    </tr>\n",
       "    <tr>\n",
       "      <th>unique</th>\n",
       "      <td>957</td>\n",
       "    </tr>\n",
       "    <tr>\n",
       "      <th>top</th>\n",
       "      <td>+1 +1 +1 +1 -1 -1 -1 +1 -1 +1</td>\n",
       "    </tr>\n",
       "    <tr>\n",
       "      <th>freq</th>\n",
       "      <td>1</td>\n",
       "    </tr>\n",
       "  </tbody>\n",
       "</table>\n",
       "</div>"
      ],
      "text/plain": [
       "        +1 +1 +1 +1 -1 -1 +1 -1 -1 +1\n",
       "count                             957\n",
       "unique                            957\n",
       "top     +1 +1 +1 +1 -1 -1 -1 +1 -1 +1\n",
       "freq                                1"
      ]
     },
     "execution_count": 19,
     "metadata": {},
     "output_type": "execute_result"
    }
   ],
   "source": [
    "df1.describe(include='object')"
   ]
  },
  {
   "cell_type": "markdown",
   "metadata": {},
   "source": [
    "+1+1+1+1-1-1-1-1-1+1: This is the string of characters that appears 957 times in the file.\n",
    "\n",
    "count: This shows the total count of the string, which is 957.\n",
    "\n",
    "unique: This indicates that there are 957 unique strings in the file, meaning each string is different.\n",
    "\n",
    "top: This is the most frequent string, which is the same string mentioned above.\n",
    "\n",
    "freq: This shows the frequency of the top string, which is 1, meaning it appears only once in the file.\n"
   ]
  },
  {
   "cell_type": "code",
   "execution_count": 20,
   "metadata": {},
   "outputs": [
    {
     "data": {
      "text/html": [
       "<div>\n",
       "<style scoped>\n",
       "    .dataframe tbody tr th:only-of-type {\n",
       "        vertical-align: middle;\n",
       "    }\n",
       "\n",
       "    .dataframe tbody tr th {\n",
       "        vertical-align: top;\n",
       "    }\n",
       "\n",
       "    .dataframe thead th {\n",
       "        text-align: right;\n",
       "    }\n",
       "</style>\n",
       "<table border=\"1\" class=\"dataframe\">\n",
       "  <thead>\n",
       "    <tr style=\"text-align: right;\">\n",
       "      <th></th>\n",
       "      <th>1 -1 0 0 0 0 0 1 0 0 0 0 0 0 0 1 0 1</th>\n",
       "    </tr>\n",
       "  </thead>\n",
       "  <tbody>\n",
       "    <tr>\n",
       "      <th>count</th>\n",
       "      <td>6550</td>\n",
       "    </tr>\n",
       "    <tr>\n",
       "      <th>unique</th>\n",
       "      <td>3903</td>\n",
       "    </tr>\n",
       "    <tr>\n",
       "      <th>top</th>\n",
       "      <td>1 0 1 0 0 0 0 -1 0 0 1 0 1 1 1 1 0 1</td>\n",
       "    </tr>\n",
       "    <tr>\n",
       "      <th>freq</th>\n",
       "      <td>2</td>\n",
       "    </tr>\n",
       "  </tbody>\n",
       "</table>\n",
       "</div>"
      ],
      "text/plain": [
       "        1 -1 0 0 0 0 0 1 0 0 0 0 0 0 0 1 0 1 \n",
       "count                                    6550\n",
       "unique                                   3903\n",
       "top     1 0 1 0 0 0 0 -1 0 0 1 0 1 1 1 1 0 1 \n",
       "freq                                        2"
      ]
     },
     "execution_count": 20,
     "metadata": {},
     "output_type": "execute_result"
    }
   ],
   "source": [
    "df2.describe(include='object')"
   ]
  },
  {
   "cell_type": "code",
   "execution_count": 21,
   "metadata": {},
   "outputs": [
    {
     "data": {
      "text/html": [
       "<div>\n",
       "<style scoped>\n",
       "    .dataframe tbody tr th:only-of-type {\n",
       "        vertical-align: middle;\n",
       "    }\n",
       "\n",
       "    .dataframe tbody tr th {\n",
       "        vertical-align: top;\n",
       "    }\n",
       "\n",
       "    .dataframe thead th {\n",
       "        text-align: right;\n",
       "    }\n",
       "</style>\n",
       "<table border=\"1\" class=\"dataframe\">\n",
       "  <thead>\n",
       "    <tr style=\"text-align: right;\">\n",
       "      <th></th>\n",
       "      <th>1 -1 0 0 0 0 0 1 0 6</th>\n",
       "    </tr>\n",
       "  </thead>\n",
       "  <tbody>\n",
       "    <tr>\n",
       "      <th>count</th>\n",
       "      <td>6550</td>\n",
       "    </tr>\n",
       "    <tr>\n",
       "      <th>unique</th>\n",
       "      <td>3903</td>\n",
       "    </tr>\n",
       "    <tr>\n",
       "      <th>top</th>\n",
       "      <td>1 0 1 0 0 0 0 -1 0 1</td>\n",
       "    </tr>\n",
       "    <tr>\n",
       "      <th>freq</th>\n",
       "      <td>2</td>\n",
       "    </tr>\n",
       "  </tbody>\n",
       "</table>\n",
       "</div>"
      ],
      "text/plain": [
       "        1 -1 0 0 0 0 0 1 0 6\n",
       "count                   6550\n",
       "unique                  3903\n",
       "top     1 0 1 0 0 0 0 -1 0 1\n",
       "freq                       2"
      ]
     },
     "execution_count": 21,
     "metadata": {},
     "output_type": "execute_result"
    }
   ],
   "source": [
    "df3.describe(include='object')"
   ]
  },
  {
   "cell_type": "markdown",
   "metadata": {},
   "source": [
    "This code defines a function called get_test_train(path) that reads data from a file at the specified path, processes it into features (X) and target labels (y), and then splits the dataset into training and test sets using the train_test_split function from scikit-learn."
   ]
  },
  {
   "cell_type": "code",
   "execution_count": 39,
   "metadata": {},
   "outputs": [],
   "source": [
    "from sklearn.model_selection import train_test_split\n",
    "\n",
    "def get_test_train(path):\n",
    "    data_set = open(path,\"r\")\n",
    "    # build x and y \n",
    "    X = []\n",
    "    y = []\n",
    "    for line in data_set:\n",
    "        temp = line.rstrip().split(\" \")\n",
    "        X.append(temp[:9])\n",
    "        if len(temp) == 10:\n",
    "            y.append(temp[-1])\n",
    "        else:\n",
    "            y.append(temp[-9:])\n",
    "    # split into train and test\n",
    "    X_train, X_test, y_train, y_test = train_test_split(X,y,test_size=0.25,shuffle=True)\n",
    "    return X_train, X_test, y_train, y_test"
   ]
  },
  {
   "cell_type": "markdown",
   "metadata": {},
   "source": [
    "Classifier Functions"
   ]
  },
  {
   "cell_type": "markdown",
   "metadata": {},
   "source": []
  },
  {
   "cell_type": "code",
   "execution_count": 40,
   "metadata": {},
   "outputs": [],
   "source": [
    "import matplotlib.pyplot as plt\n",
    "from sklearn.metrics import confusion_matrix\n",
    "\n",
    "# create function to get accuracy and plot confusion matrix\n",
    "def get_stats(actual, pred, title, cmap=plt.cm.gray_r):\n",
    "    accuracy = sklearn.metrics.accuracy_score(actual, pred, normalize=True)\n",
    "    \n",
    "    a = pd.Series(actual, name='Actual')\n",
    "    p = pd.Series(pred, name='Predicted')\n",
    "    df_confusion = pd.crosstab(a, p)\n",
    "    \n",
    "    plt.matshow(df_confusion, cmap=cmap) # imshow\n",
    "    plt.colorbar()\n",
    "    tick_marks = np.arange(len(df_confusion.columns))\n",
    "    plt.xticks(tick_marks, df_confusion.columns, rotation=45)\n",
    "    plt.yticks(tick_marks, df_confusion.index)\n",
    "    plt.ylabel(df_confusion.index.name)\n",
    "    plt.xlabel(df_confusion.columns.name)\n",
    "    title = title + f\" (Accuracy: {round(accuracy, 4)})\"\n",
    "    plt.title(title)\n",
    "    plt.show()"
   ]
  },
  {
   "cell_type": "code",
   "execution_count": 41,
   "metadata": {},
   "outputs": [],
   "source": [
    "from sklearn.model_selection import ShuffleSplit, cross_val_score\n",
    "\n",
    "def clf_pipeline(model, path, title, transform_X=True):\n",
    "    # get testing data\n",
    "    X_train, X_test, y_train, y_test = get_test_train(path)\n",
    "    if transform_X:\n",
    "        X_train = np.array(X_train, dtype=np.float64)\n",
    "        X_test = np.array(X_test, dtype=np.float64)\n",
    "    # get cross-validation score\n",
    "    cv = ShuffleSplit(n_splits=10, test_size=0.3, random_state=0)\n",
    "    score = cross_val_score(model, X_train, y_train, cv=cv)\n",
    "    print(f\"Cross Validation Scores:\\n{score}\")\n",
    "    # fit model\n",
    "    model.fit(X_train, y_train)\n",
    "    y_hat = model.predict(X_test)\n",
    "    # print out stats\n",
    "    get_stats(y_test, y_hat, title)"
   ]
  },
  {
   "cell_type": "markdown",
   "metadata": {},
   "source": [
    "# Classification: Linear SVM - Final Board State and Optimal Single Move\n",
    "\n",
    "Final Board State: This involves building a classifier that can predict the state of the game, whether it's a win, loss, or draw (or a similar set of possible outcomes).\n",
    "\n",
    "Predicting the Optimal Single Move: For determining the optimal move, you would typically need to evaluate each possible move (for the current player) and assign a score to each one\n"
   ]
  },
  {
   "cell_type": "code",
   "execution_count": 43,
   "metadata": {},
   "outputs": [],
   "source": [
    "from sklearn import svm, metrics\n",
    "clf = svm.SVC(C=1)"
   ]
  },
  {
   "cell_type": "markdown",
   "metadata": {},
   "source": [
    "clf_pipeline function:\n",
    "\n",
    "The clf_pipeline function is likely a custom function that handles the workflow for training a model (in this case, an SVM model) and possibly evaluating its performance. While the code for clf_pipeline is not provided, we can infer from the parameters that it likely performs tasks like:\n",
    "Loading the dataset.\n",
    "Preprocessing the data.\n",
    "Training the classifier (in this case, clf, which is an SVM model).\n",
    "Evaluating the model's performance.\n",
    "Generating metrics or visualizations (like confusion matrix, accuracy)"
   ]
  },
  {
   "cell_type": "code",
   "execution_count": 44,
   "metadata": {},
   "outputs": [
    {
     "name": "stdout",
     "output_type": "stream",
     "text": [
      "Cross Validation Scores:\n",
      "[0.98611111 0.98148148 0.99074074 0.99074074 0.97685185 0.98611111\n",
      " 0.99537037 0.98611111 0.98611111 0.98148148]\n"
     ]
    },
    {
     "data": {
      "image/png": "[encoded data removed]",
      "text/plain": [
       "<Figure size 480x480 with 2 Axes>"
      ]
     },
     "metadata": {},
     "output_type": "display_data"
    }
   ],
   "source": [
    "clf_pipeline(clf, \"./datasets/tictac_final.txt\", \"SVM Final State\")\n"
   ]
  },
  {
   "cell_type": "markdown",
   "metadata": {},
   "source": [
    "Why Use joblib?\n",
    "Efficiency: joblib is optimized for saving and loading large numerical data efficiently, which is useful for machine learning models that can be large (due to parameters, support vectors, etc.).\n",
    "Persistence: It allows you to save the trained model to a disk and reuse it later, which is especially useful in production systems where you don't want to retrain models every time you need to use them."
   ]
  },
  {
   "cell_type": "code",
   "execution_count": 45,
   "metadata": {},
   "outputs": [
    {
     "data": {
      "text/plain": [
       "['svm_clf_final.joblib']"
      ]
     },
     "execution_count": 45,
     "metadata": {},
     "output_type": "execute_result"
    }
   ],
   "source": [
    "from joblib import dump, load\n",
    "dump(clf, 'svm_clf_final.joblib')"
   ]
  },
  {
   "cell_type": "markdown",
   "metadata": {},
   "source": [
    " clf = svm.SVC(C=1) builds a Support Vector Classifier (SVC) model with C=1 using the Support Vector Machine (SVM) algorithm from scikit-learn. This model is designed to classify data into different categories based on a hyperplane that best separates the classes in the feature space."
   ]
  },
  {
   "cell_type": "code",
   "execution_count": 46,
   "metadata": {},
   "outputs": [],
   "source": [
    "# build model\n",
    "clf = svm.SVC(C=1)"
   ]
  },
  {
   "cell_type": "markdown",
   "metadata": {},
   "source": [
    "This function will train the model, evaluate its performance using cross-validation, and plot the confusion matrix with the accuracy score."
   ]
  },
  {
   "cell_type": "code",
   "execution_count": 12,
   "metadata": {},
   "outputs": [
    {
     "name": "stdout",
     "output_type": "stream",
     "text": [
      "Cross Validation Scores:\n",
      "[0.78629579 0.79647218 0.81411126 0.79850746 0.80393487 0.79579376\n",
      " 0.79240163 0.77408412 0.79579376 0.78358209]\n"
     ]
    },
    {
     "data": {
      "image/png": "[encoded data removed]",
      "text/plain": [
       "<Figure size 480x480 with 2 Axes>"
      ]
     },
     "metadata": {},
     "output_type": "display_data"
    }
   ],
   "source": [
    "clf_pipeline(clf, \"./datasets/tictac_single.txt\", \"SVM single Move\")\n"
   ]
  },
  {
   "cell_type": "markdown",
   "metadata": {},
   "source": [
    "saves the trained Support Vector Machine (SVM) model (clf) to a file called svm_clf_single.joblib using the joblib library. This allows you to save the model after training and load it later to make predictions without needing to retrain it."
   ]
  },
  {
   "cell_type": "code",
   "execution_count": 48,
   "metadata": {},
   "outputs": [
    {
     "data": {
      "text/plain": [
       "['svm_clf_single.joblib']"
      ]
     },
     "execution_count": 48,
     "metadata": {},
     "output_type": "execute_result"
    }
   ],
   "source": [
    "dump(clf, 'svm_clf_single.joblib')"
   ]
  },
  {
   "cell_type": "markdown",
   "metadata": {},
   "source": [
    "# Classification: KNN - Final Board State and Optimal Single Move"
   ]
  },
  {
   "cell_type": "markdown",
   "metadata": {},
   "source": [
    "KNN is a simple and widely used machine learning algorithm. It classifies a data point based on how its neighbors are classified, meaning it looks at the k closest data points and uses a majority voting mechanism to predict the class of the target point."
   ]
  },
  {
   "cell_type": "code",
   "execution_count": 47,
   "metadata": {},
   "outputs": [],
   "source": [
    "from sklearn.neighbors import KNeighborsClassifier\n",
    "knn = KNeighborsClassifier(n_neighbors=3, weights='distance')"
   ]
  },
  {
   "cell_type": "code",
   "execution_count": 49,
   "metadata": {},
   "outputs": [
    {
     "name": "stdout",
     "output_type": "stream",
     "text": [
      "Cross Validation Scores:\n",
      "[0.99074074 0.99537037 0.99074074 0.99537037 0.99074074 0.98148148\n",
      " 0.99537037 1.         0.99537037 0.98611111]\n"
     ]
    },
    {
     "data": {
      "image/png": "[encoded data removed]",
      "text/plain": [
       "<Figure size 480x480 with 2 Axes>"
      ]
     },
     "metadata": {},
     "output_type": "display_data"
    }
   ],
   "source": [
    "clf_pipeline(knn, \"./datasets/tictac_final.txt\", \"KNN (n=3) Final State\")"
   ]
  },
  {
   "cell_type": "code",
   "execution_count": 50,
   "metadata": {},
   "outputs": [
    {
     "data": {
      "text/plain": [
       "['knn_clf_final.joblib']"
      ]
     },
     "execution_count": 50,
     "metadata": {},
     "output_type": "execute_result"
    }
   ],
   "source": [
    "dump(knn, 'knn_clf_final.joblib')"
   ]
  },
  {
   "cell_type": "code",
   "execution_count": 51,
   "metadata": {},
   "outputs": [],
   "source": [
    "knn = KNeighborsClassifier(n_neighbors=3, weights='distance')"
   ]
  },
  {
   "cell_type": "code",
   "execution_count": 52,
   "metadata": {},
   "outputs": [
    {
     "name": "stdout",
     "output_type": "stream",
     "text": [
      "Cross Validation Scores:\n",
      "[0.79850746 0.78561737 0.77951153 0.78493894 0.8046133  0.78561737\n",
      " 0.78222524 0.77204885 0.807327   0.79443691]\n"
     ]
    },
    {
     "data": {
      "image/png": "[encoded data removed]",
      "text/plain": [
       "<Figure size 480x480 with 2 Axes>"
      ]
     },
     "metadata": {},
     "output_type": "display_data"
    }
   ],
   "source": [
    "clf_pipeline(knn, \"./datasets/tictac_single.txt\", \"KNN (n=3) Single Move\", transform_X=True)"
   ]
  },
  {
   "cell_type": "code",
   "execution_count": 53,
   "metadata": {},
   "outputs": [
    {
     "data": {
      "text/plain": [
       "['knn_clf_single.joblib']"
      ]
     },
     "execution_count": 53,
     "metadata": {},
     "output_type": "execute_result"
    }
   ],
   "source": [
    "dump(knn, 'knn_clf_single.joblib')"
   ]
  },
  {
   "cell_type": "markdown",
   "metadata": {},
   "source": [
    "# Classification: MLP - Final Board State and Optimal Single Move"
   ]
  },
  {
   "cell_type": "markdown",
   "metadata": {},
   "source": [
    "MLP is a type of artificial neural network (ANN) that consists of multiple layers of neurons, typically with an input layer, one or more hidden layers, and an output layer. MLP is used for classification tasks and is a type of feedforward neural network, where the data flows in one direction, from input to output."
   ]
  },
  {
   "cell_type": "code",
   "execution_count": 54,
   "metadata": {},
   "outputs": [],
   "source": [
    "from sklearn.neural_network import MLPClassifier\n",
    "mlp = MLPClassifier(random_state=1, max_iter=600)"
   ]
  },
  {
   "cell_type": "code",
   "execution_count": 55,
   "metadata": {},
   "outputs": [
    {
     "name": "stdout",
     "output_type": "stream",
     "text": [
      "Cross Validation Scores:\n",
      "[0.97685185 0.97685185 0.99537037 0.97685185 0.97685185 1.\n",
      " 0.97685185 1.         0.97685185 0.97685185]\n"
     ]
    },
    {
     "data": {
      "image/png": "[encoded data removed]",
      "text/plain": [
       "<Figure size 480x480 with 2 Axes>"
      ]
     },
     "metadata": {},
     "output_type": "display_data"
    }
   ],
   "source": [
    "clf_pipeline(mlp, \"./datasets/tictac_final.txt\", \"MLP Final State\", transform_X=True)"
   ]
  },
  {
   "cell_type": "code",
   "execution_count": 56,
   "metadata": {},
   "outputs": [
    {
     "data": {
      "text/plain": [
       "['mlp_clf_final.joblib']"
      ]
     },
     "execution_count": 56,
     "metadata": {},
     "output_type": "execute_result"
    }
   ],
   "source": [
    "dump(mlp, 'mlp_clf_final.joblib')"
   ]
  },
  {
   "cell_type": "code",
   "execution_count": 57,
   "metadata": {},
   "outputs": [],
   "source": [
    "mlp = MLPClassifier(random_state=1, max_iter=2000)"
   ]
  },
  {
   "cell_type": "code",
   "execution_count": 58,
   "metadata": {},
   "outputs": [
    {
     "name": "stdout",
     "output_type": "stream",
     "text": [
      "Cross Validation Scores:\n",
      "[0.89348711 0.89416554 0.89552239 0.88398915 0.89620081 0.87720488\n",
      " 0.89755767 0.89280868 0.89823609 0.89620081]\n"
     ]
    },
    {
     "data": {
      "image/png": "[encoded data removed]",
      "text/plain": [
       "<Figure size 480x480 with 2 Axes>"
      ]
     },
     "metadata": {},
     "output_type": "display_data"
    }
   ],
   "source": [
    "clf_pipeline(mlp, \"./datasets/tictac_single.txt\", \"MLP Single Move\", transform_X=True)"
   ]
  },
  {
   "cell_type": "code",
   "execution_count": 59,
   "metadata": {},
   "outputs": [
    {
     "data": {
      "text/plain": [
       "['mlp_clf_single.joblib']"
      ]
     },
     "execution_count": 59,
     "metadata": {},
     "output_type": "execute_result"
    }
   ],
   "source": [
    "dump(mlp, 'mlp_clf_single.joblib')"
   ]
  },
  {
   "cell_type": "markdown",
   "metadata": {},
   "source": [
    "# Regression Functions"
   ]
  },
  {
   "cell_type": "code",
   "execution_count": 60,
   "metadata": {},
   "outputs": [],
   "source": [
    "from sklearn.metrics import root_mean_squared_error\n",
    "\n",
    "def get_reg_stats(actual, pred):\n",
    "    accuracy = sklearn.metrics.accuracy_score(actual, pred, normalize=True)\n",
    "    print(f\"Accuracy:\\n{accuracy}\")\n",
    "    rmse = root_mean_squared_error(actual, pred)\n",
    "    print(f\"RMSE:\\n{round(rmse,4)}\")"
   ]
  },
  {
   "cell_type": "code",
   "execution_count": 61,
   "metadata": {},
   "outputs": [],
   "source": [
    "from sklearn.model_selection import ShuffleSplit, cross_val_score\n",
    "\n",
    "def reg_pipeline(model, path, transform=True):\n",
    "    # get testing data\n",
    "    X_train, X_test, y_train, y_test = get_test_train(path)\n",
    "    if transform:\n",
    "        X_train = np.array(X_train, dtype=np.float64)\n",
    "        X_test = np.array(X_test, dtype=np.float64)\n",
    "        y_train = np.array(y_train, dtype=np.float64)\n",
    "        y_test = np.array(y_test, dtype=np.float64)\n",
    "    # get cross-validation score\n",
    "    cv = ShuffleSplit(n_splits=10, test_size=0.3, random_state=0)\n",
    "    score = cross_val_score(model, X_train, y_train, cv=cv)\n",
    "    print(f\"Cross Validation Scores:\\n{score}\")\n",
    "    # fit model\n",
    "    model.fit(X_train, y_train)\n",
    "    y_hat = model.predict(X_test)\n",
    "    for arr in y_hat:\n",
    "        for i in range(len(arr)):\n",
    "            if arr[i] >= 0.5:\n",
    "                arr[i] = 1\n",
    "            else:\n",
    "                arr[i] = 0\n",
    "    # print out stats\n",
    "    get_reg_stats(y_test, y_hat)"
   ]
  },
  {
   "cell_type": "markdown",
   "metadata": {},
   "source": [
    "# Regression: KNN - Optimal Multi Move"
   ]
  },
  {
   "cell_type": "code",
   "execution_count": 62,
   "metadata": {},
   "outputs": [],
   "source": [
    "from sklearn.neighbors import KNeighborsRegressor\n",
    "knn_reg = KNeighborsRegressor(n_neighbors=2,weights=\"distance\")"
   ]
  },
  {
   "cell_type": "code",
   "execution_count": 63,
   "metadata": {},
   "outputs": [
    {
     "name": "stdout",
     "output_type": "stream",
     "text": [
      "Cross Validation Scores:\n",
      "[0.61617311 0.57074074 0.57176825 0.57022029 0.55868648 0.58976724\n",
      " 0.60199986 0.56408357 0.60579905 0.59678221]\n",
      "Accuracy:\n",
      "0.7142857142857143\n",
      "RMSE:\n",
      "0.2795\n"
     ]
    }
   ],
   "source": [
    "reg_pipeline(knn_reg, \"./datasets/tictac_multi.txt\")"
   ]
  },
  {
   "cell_type": "code",
   "execution_count": 64,
   "metadata": {},
   "outputs": [
    {
     "data": {
      "text/plain": [
       "['knn_reg.joblib']"
      ]
     },
     "execution_count": 64,
     "metadata": {},
     "output_type": "execute_result"
    }
   ],
   "source": [
    "from joblib import dump, load\n",
    "dump(knn_reg, 'knn_reg.joblib')"
   ]
  },
  {
   "cell_type": "markdown",
   "metadata": {},
   "source": [
    "# Regression: Linear - Optimal Multi Move"
   ]
  },
  {
   "cell_type": "code",
   "execution_count": 65,
   "metadata": {},
   "outputs": [],
   "source": [
    "from sklearn.multioutput import MultiOutputRegressor\n",
    "from sklearn.linear_model import LinearRegression\n",
    "l_reg = MultiOutputRegressor(LinearRegression())"
   ]
  },
  {
   "cell_type": "code",
   "execution_count": 66,
   "metadata": {},
   "outputs": [
    {
     "name": "stdout",
     "output_type": "stream",
     "text": [
      "Cross Validation Scores:\n",
      "[-0.00077201  0.00081301  0.00218712 -0.00270432  0.00029512  0.00117598\n",
      "  0.00134126 -0.00056318 -0.00046004  0.00124193]\n",
      "Accuracy:\n",
      "0.0\n",
      "RMSE:\n",
      "0.4672\n"
     ]
    }
   ],
   "source": [
    "reg_pipeline(l_reg, \"./datasets/tictac_multi.txt\")"
   ]
  },
  {
   "cell_type": "code",
   "execution_count": 67,
   "metadata": {},
   "outputs": [
    {
     "data": {
      "text/plain": [
       "['l_reg.joblib']"
      ]
     },
     "execution_count": 67,
     "metadata": {},
     "output_type": "execute_result"
    }
   ],
   "source": [
    "from joblib import dump, load\n",
    "dump(l_reg, 'l_reg.joblib')"
   ]
  },
  {
   "cell_type": "markdown",
   "metadata": {},
   "source": [
    "# Regression: MLP - Optimal Multi Move"
   ]
  },
  {
   "cell_type": "code",
   "execution_count": 68,
   "metadata": {},
   "outputs": [],
   "source": [
    "from sklearn.neural_network import MLPRegressor\n",
    "mlp_reg = MLPRegressor(hidden_layer_sizes=(400,400), max_iter=1000)"
   ]
  },
  {
   "cell_type": "code",
   "execution_count": 69,
   "metadata": {},
   "outputs": [
    {
     "name": "stdout",
     "output_type": "stream",
     "text": [
      "Cross Validation Scores:\n",
      "[0.72921114 0.72003762 0.70325261 0.7172992  0.71818274 0.71234105\n",
      " 0.71596522 0.70638411 0.70711395 0.71704309]\n",
      "Accuracy:\n",
      "0.8485958485958486\n",
      "RMSE:\n",
      "0.1579\n"
     ]
    }
   ],
   "source": [
    "reg_pipeline(mlp_reg, \"./datasets/tictac_multi.txt\")"
   ]
  },
  {
   "cell_type": "code",
   "execution_count": 70,
   "metadata": {},
   "outputs": [
    {
     "data": {
      "text/plain": [
       "['mlp_reg.joblib']"
      ]
     },
     "execution_count": 70,
     "metadata": {},
     "output_type": "execute_result"
    }
   ],
   "source": [
    "from joblib import dump, load\n",
    "dump(mlp_reg, 'mlp_reg.joblib')"
   ]
  }
 ],
 "metadata": {
  "kernelspec": {
   "display_name": "Python 3",
   "language": "python",
   "name": "python3"
  },
  "language_info": {
   "codemirror_mode": {
    "name": "ipython",
    "version": 3
   },
   "file_extension": ".py",
   "mimetype": "text/x-python",
   "name": "python",
   "nbconvert_exporter": "python",
   "pygments_lexer": "ipython3",
   "version": "3.12.2"
  }
 },
 "nbformat": 4,
 "nbformat_minor": 2
}
